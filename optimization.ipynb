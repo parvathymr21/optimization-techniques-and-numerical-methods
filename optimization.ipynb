{
 "cells": [
  {
   "cell_type": "markdown",
   "id": "9f6e5103",
   "metadata": {},
   "source": [
    "# BFGS "
   ]
  },
  {
   "cell_type": "code",
   "execution_count": 2,
   "id": "09a96612",
   "metadata": {},
   "outputs": [],
   "source": [
    "import numpy as np\n",
    "import numpy.linalg as ln\n",
    "import scipy as sp\n",
    "import scipy.optimize"
   ]
  },
  {
   "cell_type": "code",
   "execution_count": null,
   "id": "3c7eeda6",
   "metadata": {},
   "outputs": [],
   "source": []
  },
  {
   "cell_type": "code",
   "execution_count": 48,
   "id": "b6977ec5",
   "metadata": {},
   "outputs": [
    {
     "name": "stdout",
     "output_type": "stream",
     "text": [
      "Result of BFGS method:\n",
      "Final Result (best point): [-4.00021384  0.99957361]\n",
      "Iteration Count: 6\n"
     ]
    }
   ],
   "source": [
    "\n",
    "# Objective function\n",
    "def f(x):\n",
    "    return x[0]**2 - x[0]*x[1] + x[1]**2 + 9*x[0] - 6*x[1] + 20\n",
    "# Derivative\n",
    "def f1(x):\n",
    "    return np.array([2 * x[0] - x[1] + 9, -x[0] + 2*x[1] - 6])\n",
    "def bfgs_method(f, fprime, x0, epsi=1e-3):\n",
    "    \"\"\"\n",
    "    Minimize a function func using the BFGS algorithm.\n",
    "    func : f(x)\n",
    "        Function to minimise.\n",
    "    x0 : Initial guess.\n",
    "    fprime : fprime(x)\n",
    "        The gradient of `func`.\n",
    "    \"\"\"\n",
    "    # initial values\n",
    "    k = 1\n",
    "    gfk = fprime(x0)\n",
    "    N = len(x0)\n",
    "    # Set the Identity matrix I.\n",
    "    I = np.eye(N, dtype=int)\n",
    "    Hk = I\n",
    "    xk = x0\n",
    "    def f1d(alpha):\n",
    "        return f(xk + alpha*dk)\n",
    "    while ln.norm(gfk) > epsi and k<15:\n",
    "        # pk - direction of search\n",
    "        dk = -np.dot(Hk, gfk)\n",
    "        # Line search constants for the Wolfe conditions.\n",
    "        # Repeating the line search\n",
    "        # line_search returns not only alpha\n",
    "        # but only this value is interesting for us\n",
    "        #line_search = sp.optimize.line_search(f, f1, xk, pk)\n",
    "        #print(line_search)\n",
    "        alpha_opt = sp.optimize.golden(f1d)\n",
    "        #alpha_k = line_search[0]\n",
    "        xkp1 = xk + alpha_opt * dk\n",
    "        d_xk = xkp1 - xk\n",
    "        xk = xkp1\n",
    "        gfkp1 = fprime(xkp1)\n",
    "        d_gk = gfkp1 - gfk\n",
    "        gfk = gfkp1\n",
    "        k += 1\n",
    "        v = (np.dot(d_gk, d_xk))\n",
    "        if v == 0:\n",
    "            break\n",
    "        ro = 1.0 / (np.dot(d_gk, d_xk))\n",
    "        \n",
    "        A1 = I - np.dot(ro ,np.dot( d_xk, d_gk.T))\n",
    "        A2 = I -np.dot(ro , np.dot(d_gk ,d_xk.T))\n",
    "        Hk = np.dot(A1, np.dot(Hk, A2)) + (np.dot(ro,np.dot(d_xk.T,d_xk)))\n",
    "                                                \n",
    "    return (xk, k)\n",
    "x0 = np.array([1,1])\n",
    "result, k = bfgs_method(f, f1,x0)\n",
    "print('Result of BFGS method:')\n",
    "print('Final Result (best point): %s' % (result))\n",
    "print('Iteration Count: %s' % (k))"
   ]
  },
  {
   "cell_type": "code",
   "execution_count": 52,
   "id": "8146315e",
   "metadata": {},
   "outputs": [
    {
     "name": "stdout",
     "output_type": "stream",
     "text": [
      "[0.83333334 0.         0.27777778]\n",
      "[ 0.98252345 -0.10656437  0.14990054]\n",
      "[ 1.04466983 -0.07328352  0.0517188 ]\n",
      "[ 0.98725265 -0.03271055  0.00476094]\n",
      "[ 1.00125609 -0.01980102  0.0184727 ]\n",
      "[ 1.00182764 -0.01917306  0.01897919]\n",
      "[ 1.00009915 -0.0202421   0.0163645 ]\n",
      "[ 1.00153693 -0.0188005   0.01779934]\n",
      "[ 1.00154729 -0.01879009  0.01780964]\n",
      "[ 1.00157535 -0.01876167  0.01783729]\n",
      "[ 1.00152792 -0.0188091   0.01778986]\n",
      "[ 1.00152779 -0.01880923  0.01778973]\n",
      "[ 1.00152758 -0.01880944  0.01778952]\n",
      "[ 1.00152816 -0.01880886  0.0177901 ]\n",
      "[ 1.00152816 -0.01880886  0.0177901 ]\n",
      "Result of Rank1 method:\n",
      "Final Result (best point): [ 1.00152816 -0.01880886  0.0177901 ]\n",
      "Iteration Count: 15\n",
      "[ 0.8754401  -0.09130654  0.17434648]\n",
      "[0.83333334 0.         0.27777778]\n"
     ]
    }
   ],
   "source": [
    "def f(x):\n",
    "    return 1.5*x[0]**2  + 2*x[1]**2 + 1.5*x[2]**2 + x[0]*x[2] + 2*x[1]*x[2] -3*x[0] -x[2]\n",
    "# Derivative\n",
    "def f1(x):\n",
    "    return np.array([3*x[0] - x[2] -3,4*x[1] + 2*x[2],x[0] + 2*x[1] + 3*x[2] -1])\n",
    "x0=np.array([0,0,0])\n",
    "H0 = np.array([[1,0,0],[0,1,0],[0,0,1]])\n",
    "Q = np.array([[3,0,1],[0,4,2],[1,2,3]])\n",
    "#b = np.array()\n",
    "def rank1(H,x):\n",
    "    g0 = f1(x)\n",
    "    gk = g0\n",
    "    Hk = H\n",
    "    dk = -1*np.dot(Hk,gk)\n",
    "    def f1d(alpha):\n",
    "        return f(x + alpha*dk)\n",
    "\n",
    "    #alpha=alpha0\n",
    "    i=0\n",
    "    \n",
    "    norm=5\n",
    "        #for i in range(20):\n",
    "    while norm>0.001 and  i<15 :\n",
    "\n",
    "            #s = df(x)\n",
    "        alpha_opt = sp.optimize.golden(f1d)\n",
    "        #print(alpha_opt)\n",
    "        x_old =x\n",
    "        x = x + alpha_opt * dk\n",
    "        norm =np.linalg.norm(gk)\n",
    "        gk = f1(x)\n",
    "        dk = -1*np.dot(Hk,gk)\n",
    "        print(x)\n",
    "        d_xk = alpha_opt*dk\n",
    "        d_gk = f1(x) - f1(x_old)\n",
    "        Hk = Hk + (np.linalg.norm(d_xk -np.dot(Hk,d_gk))/(np.dot(d_gk.T,(d_xk -np.dot(Hk,d_gk)))))\n",
    "        i+=1\n",
    "    return x,i\n",
    "\n",
    "\n",
    "x,i= rank1(H0,x0)\n",
    "print('Result of Rank1 method:')\n",
    "print('Final Result (best point): %s' % (x))\n",
    "print('Iteration Count: %s' % (i))\n",
    "\n",
    "result, k = bfgs_method(f, f1,x0)\n",
    "print(result)\n",
    "\n",
    "x2 =rank2(H0,x0)"
   ]
  },
  {
   "cell_type": "code",
   "execution_count": 4,
   "id": "1d2ca78c",
   "metadata": {},
   "outputs": [
    {
     "ename": "NameError",
     "evalue": "name 'rank2' is not defined",
     "output_type": "error",
     "traceback": [
      "\u001b[1;31m---------------------------------------------------------------------------\u001b[0m",
      "\u001b[1;31mNameError\u001b[0m                                 Traceback (most recent call last)",
      "\u001b[1;32m<ipython-input-4-640a73187c1d>\u001b[0m in \u001b[0;36m<module>\u001b[1;34m\u001b[0m\n\u001b[0;32m      5\u001b[0m \u001b[0mH0\u001b[0m \u001b[1;33m=\u001b[0m \u001b[0mnp\u001b[0m\u001b[1;33m.\u001b[0m\u001b[0marray\u001b[0m\u001b[1;33m(\u001b[0m\u001b[1;33m[\u001b[0m\u001b[1;33m[\u001b[0m\u001b[1;36m1\u001b[0m\u001b[1;33m,\u001b[0m\u001b[1;36m0\u001b[0m\u001b[1;33m]\u001b[0m\u001b[1;33m,\u001b[0m\u001b[1;33m[\u001b[0m\u001b[1;36m0\u001b[0m\u001b[1;33m,\u001b[0m\u001b[1;36m1\u001b[0m\u001b[1;33m]\u001b[0m\u001b[1;33m]\u001b[0m\u001b[1;33m)\u001b[0m\u001b[1;33m\u001b[0m\u001b[1;33m\u001b[0m\u001b[0m\n\u001b[0;32m      6\u001b[0m \u001b[0mx0\u001b[0m\u001b[1;33m=\u001b[0m\u001b[0mnp\u001b[0m\u001b[1;33m.\u001b[0m\u001b[0marray\u001b[0m\u001b[1;33m(\u001b[0m\u001b[1;33m[\u001b[0m\u001b[1;36m1\u001b[0m\u001b[1;33m,\u001b[0m\u001b[1;36m2\u001b[0m\u001b[1;33m]\u001b[0m\u001b[1;33m)\u001b[0m\u001b[1;33m\u001b[0m\u001b[1;33m\u001b[0m\u001b[0m\n\u001b[1;32m----> 7\u001b[1;33m \u001b[0mx2\u001b[0m \u001b[1;33m=\u001b[0m\u001b[0mrank2\u001b[0m\u001b[1;33m(\u001b[0m\u001b[0mH0\u001b[0m\u001b[1;33m,\u001b[0m\u001b[0mx0\u001b[0m\u001b[1;33m)\u001b[0m\u001b[1;33m\u001b[0m\u001b[1;33m\u001b[0m\u001b[0m\n\u001b[0m\u001b[0;32m      8\u001b[0m \u001b[1;31m#x1,i1 =rank1(H0,x0)\u001b[0m\u001b[1;33m\u001b[0m\u001b[1;33m\u001b[0m\u001b[1;33m\u001b[0m\u001b[0m\n\u001b[0;32m      9\u001b[0m \u001b[0mx2\u001b[0m\u001b[1;33m,\u001b[0m\u001b[0mx1\u001b[0m\u001b[1;33m\u001b[0m\u001b[1;33m\u001b[0m\u001b[0m\n",
      "\u001b[1;31mNameError\u001b[0m: name 'rank2' is not defined"
     ]
    }
   ],
   "source": [
    "def f(x):\n",
    "    return x[0]**2 + 0.5*x[1]**2 + 3\n",
    "def f1(x):\n",
    "    return np.array([2*x[0],x[1]])\n",
    "H0 = np.array([[1,0],[0,1]])\n",
    "x0=np.array([1,2])\n",
    "x2 =rank2(H0,x0)\n",
    "#x1,i1 =rank1(H0,x0)\n",
    "x2,x1\n",
    "\n"
   ]
  },
  {
   "cell_type": "code",
   "execution_count": 5,
   "id": "02a452db",
   "metadata": {},
   "outputs": [
    {
     "name": "stdout",
     "output_type": "stream",
     "text": [
      "[-3.0789474  2.0526316]\n",
      "[-3.81202995  0.95300761]\n",
      "[-3.95191606  1.05362011]\n",
      "[-4.002456    1.02476919]\n",
      "[-3.98908804  1.02617214]\n",
      "[-4.0076724   1.00592992]\n",
      "[-4.00959707  1.00324538]\n",
      "[-4.00827081  1.00482649]\n",
      "[-4.00609637  1.00691191]\n",
      "[-4.00418917  1.00843462]\n",
      "[-4.0069061   1.00550527]\n",
      "[-4.00704108  1.0053575 ]\n",
      "[-4.0094777   1.00124443]\n",
      "[-4.0053531   1.00536578]\n",
      "[-4.00795052  1.00087165]\n",
      "[-4.00440421  1.00441506]\n",
      "[-4.0065643   1.00058523]\n",
      "[-4.00356889  1.00357806]\n",
      "[-4.00534132  1.00030898]\n",
      "[-4.00282006  1.00282794]\n",
      "[-4.0042307   1.00012245]\n",
      "[-4.00217222  1.00217886]\n",
      "[-4.00325919  0.99991289]\n",
      "[-4.00158236  1.00158779]\n",
      "[-4.00233206  0.99970156]\n",
      "[-4.00101366  1.00101806]\n",
      "[-4.00132418  0.99957801]\n",
      "[-4.00044789  1.00045178]\n",
      "[-3.99978297  1.00036924]\n",
      "[-4.0000761   1.00007569]\n",
      "solution by rank1 correction algorithm [-4.0000761   1.00007569]\n"
     ]
    }
   ],
   "source": [
    "#def f(x):\n",
    " #   return (x[0]**4 )/4 + (x[1]**2)/2 -x[0]*x[1] + x[0] -x[1]\n",
    "\n",
    "#def f1(x):\n",
    "#    return (x[0]**3)-x[1]+1 , x[1] - x[0] -1\n",
    "def f(x):\n",
    "    return x[0]**2 - x[0]*x[1] + x[1]**2 + 9*x[0] - 6*x[1] + 20\n",
    "# Derivative\n",
    "def f1(x):\n",
    "    return np.array([2 * x[0] - x[1] + 9, -x[0] + 2*x[1] - 6])\n",
    "H1 = np.array([[1,0],[0,1]])\n",
    "x0 = np.array([0.0,0.0])\n",
    "\n",
    "\n",
    "def rank1(H,x):\n",
    "    g0 = f1(x)\n",
    "    gk = g0\n",
    "    Hk = H\n",
    "    dk = -1*np.dot(Hk,gk)\n",
    "    def f1d(alpha):\n",
    "        return f(x + alpha*dk)\n",
    "\n",
    "    #alpha=alpha0\n",
    "    i=0\n",
    "    \n",
    "    norm=5\n",
    "        #for i in range(20):\n",
    "    while norm>=0.001 :\n",
    "\n",
    "            #s = df(x)\n",
    "        alpha_opt = sp.optimize.golden(f1d)\n",
    "        #print(alpha_opt)\n",
    "        x_old =x\n",
    "        x = x + alpha_opt * dk\n",
    "        norm =np.linalg.norm(gk)\n",
    "        gk = f1(x)\n",
    "        dk = -1*np.dot(Hk,gk)\n",
    "        print(x)\n",
    "        d_xk = alpha_opt*dk\n",
    "        d_gk = f1(x) - f1(x_old)\n",
    "        Hk = Hk + (np.linalg.norm(d_xk -np.dot(Hk,d_gk))/(np.dot(d_gk.T,(d_xk -np.dot(Hk,d_gk)))))\n",
    "        #if np.linalg.norm(x-x_old)==0:\n",
    "            #break\n",
    "    return x\n",
    "x = rank1(H1,x0)\n",
    "print('solution by rank1 correction algorithm',x)"
   ]
  },
  {
   "cell_type": "code",
   "execution_count": null,
   "id": "83999e30",
   "metadata": {},
   "outputs": [],
   "source": []
  },
  {
   "cell_type": "code",
   "execution_count": 51,
   "id": "bdc01368",
   "metadata": {},
   "outputs": [
    {
     "name": "stdout",
     "output_type": "stream",
     "text": [
      "[0.16660636 1.09138245]\n",
      "solution by rank2  algorithm [0.16660636 1.09138245]\n"
     ]
    }
   ],
   "source": [
    "def f(x):\n",
    "    return 0.25*x[0]**4 + 0.5*x[1]**2 -x[0]*x[1] + x[0] -x[1]\n",
    "\n",
    "def f1(x):\n",
    "    return np.array([x[0]**3-x[1]+1 , x[1] - x[0] -1])\n",
    "x0 = np.array([0.59607,0.59607])\n",
    "H = np.array([[0.94913,0.14318],[0.14318,0.59702]])\n",
    "\n",
    "\n",
    "\n",
    "def rank2(H,x):\n",
    "    g0 = f1(x)\n",
    "    gk = g0\n",
    "    Hk = H\n",
    "    dk = -1*np.dot(Hk,gk)\n",
    "    def f1d(alpha):\n",
    "        return f(x + alpha*dk)\n",
    "\n",
    "    #alpha=alpha0\n",
    "    i=0\n",
    "    \n",
    "    norm=5\n",
    "        #for i in range(20):\n",
    "    while norm>=0.001  :\n",
    "\n",
    "            #s = df(x)\n",
    "        alpha_opt = sp.optimize.golden(f1d)\n",
    "        #print(alpha_opt)\n",
    "        x_old =x\n",
    "        #gk_old = f1(x_old)\n",
    "        x = x + alpha_opt * dk\n",
    "        norm =np.linalg.norm(gk)\n",
    "        gk = f1(x)\n",
    "        dk = -1*np.dot(Hk,gk)\n",
    "        print(x)\n",
    "        d_xk = alpha_opt*dk\n",
    "        d_gk = f1(x) - f1(x_old)\n",
    "        v = np.dot(d_xk,d_gk)\n",
    "        u =(np.dot(np.dot(d_gk.T,Hk),d_gk))\n",
    "        if u or v ==0:\n",
    "            break\n",
    "        ak = 1/np.dot(d_xk,d_gk)\n",
    "        bk = 1/(np.dot(np.dot(d_gk.T,Hk),d_gk))\n",
    "        zk = d_xk\n",
    "        wk = np.dot(Hk,d_gk)\n",
    "        Hk = Hk + np.dot(ak,np.linalg.norm(zk)) + np.dot(bk,np.linalg.norm(wk))\n",
    "        \n",
    "    return x\n",
    "\n",
    "x = rank2(H,x0)\n",
    "print('solution by rank2  algorithm',x)"
   ]
  },
  {
   "cell_type": "markdown",
   "id": "9a9b9ba6",
   "metadata": {},
   "source": [
    "# mod Newton"
   ]
  },
  {
   "cell_type": "code",
   "execution_count": 7,
   "id": "3cb34fb8",
   "metadata": {},
   "outputs": [
    {
     "name": "stdout",
     "output_type": "stream",
     "text": [
      "Result of Modified Newton method:\n",
      "Final Result (best point): [-4.  1.]\n",
      "Iteration Count: 2\n"
     ]
    }
   ],
   "source": [
    "def f(x):\n",
    "    return x[0]**2 - x[0]*x[1] + x[1]**2 + 9*x[0] - 6*x[1] + 20\n",
    "# Derivative\n",
    "def f1(x):\n",
    "    return np.array([2 * x[0] - x[1] + 9, -x[0] + 2*x[1] - 6])\n",
    "def f2(x):\n",
    "    H=[2,-1,-1,2]\n",
    "    H= np.array(H).reshape(2,2)\n",
    "    return H\n",
    "\n",
    "\n",
    "def mod_newton(f,fprime,f2,x0,epsi=1e-4):\n",
    "    \n",
    "    k = 1\n",
    "    gfk = fprime(x0)\n",
    "    N = len(x0)\n",
    "    # Set the Identity matrix I.\n",
    "    #I = np.eye(N, dtype=int)\n",
    "   # Hk = I\n",
    "    H = f2(x0)\n",
    "    xk = x0\n",
    "    def f1d(alpha):\n",
    "        return f(xk + alpha*dk)\n",
    "\n",
    "    while ln.norm(gfk) > epsi :\n",
    "        dk = -np.dot(ln.inv((f2(xk))), gfk)\n",
    "        # Line search constants for the Wolfe conditions.\n",
    "        # Repeating the line search\n",
    "        # line_search returns not only alpha\n",
    "        # but only this value is interesting for us\n",
    "        #line_search = sp.optimize.line_search(f, f1, xk, pk)\n",
    "        #print(line_search[0])\n",
    "        alpha_opt = sp.optimize.golden(f1d)\n",
    "        xkp1 = xk + alpha_opt * dk\n",
    "        #sk = xkp1 - xk\n",
    "        xk = xkp1\n",
    "        gfkp1 = fprime(xkp1)\n",
    "        #yk = gfkp1 - gfk\n",
    "        gfk = gfkp1\n",
    "        k += 1\n",
    "        return (xk, k)\n",
    "x0 = np.array([1,1])\n",
    "result1, k1 = mod_newton(f, f1,f2, x0)\n",
    "print('Result of Modified Newton method:')\n",
    "print('Final Result (best point): %s' % (result1))\n",
    "print('Iteration Count: %s' % (k1))"
   ]
  },
  {
   "cell_type": "code",
   "execution_count": 8,
   "id": "7d5d5772",
   "metadata": {},
   "outputs": [
    {
     "name": "stdout",
     "output_type": "stream",
     "text": [
      "Result of Modified newton's method:\n",
      "Final Result (best point): [1. 0. 0.]\n",
      "Iteration Count: 2\n"
     ]
    }
   ],
   "source": [
    "def f(x):\n",
    "    return 1.5*x[0]**2  + 2*x[1]**2 + 1.5*x[2]**2 + x[0]*x[2] + 2*x[1]*x[2] -3*x[0] -x[2]\n",
    "# Derivative\n",
    "def f1(x):\n",
    "    return np.array([3*x[0] - x[2] -3,4*x[1] + 2*x[2],x[0] + 2*x[1] + 3*x[2] -1])\n",
    "#second derivative or hessian\n",
    "def f2(x):\n",
    "    H=[3,0,-1,0,4,2,1,2,3]\n",
    "    H= np.array(H).reshape(3,3)\n",
    "    return H\n",
    "result2, k2 = mod_newton(f, f1,f2, np.array([0,0,0]))\n",
    "print(\"Result of Modified newton's method:\")\n",
    "print('Final Result (best point): %s' % (result2))\n",
    "print('Iteration Count: %s' % (k2))"
   ]
  },
  {
   "cell_type": "code",
   "execution_count": 31,
   "id": "efa71510",
   "metadata": {},
   "outputs": [
    {
     "data": {
      "text/plain": [
       "(array([ 7.00912475, -2.01368713,  1.66514587]), 2)"
      ]
     },
     "execution_count": 31,
     "metadata": {},
     "output_type": "execute_result"
    }
   ],
   "source": [
    "def f(x):\n",
    "    return 4*(x[0]-7)**2 +3*(x[1]+2)**2 + (x[2]-1)**4\n",
    "def f1(x):\n",
    "    return np.array([8*(x[0]-7),6*(x[1]+2),4*(x[2]-1)**3])\n",
    "def F(x):\n",
    "    return np.array([[8,0,0],[0,6,0],[0,0,12*(x[2]-1)**2]])\n",
    "x0 = np.array([5,1,2])\n",
    "mod_newton(f,f1,F,x0)\n",
    "#newton(f,f1,F,x0,1e-3,10)"
   ]
  },
  {
   "cell_type": "code",
   "execution_count": 29,
   "id": "52827da7",
   "metadata": {},
   "outputs": [],
   "source": [
    "def newton(f,Df,F,x0,epsilon,max_iter):\n",
    "    \n",
    "    xn = x0\n",
    "    #for n in range(0,max_iter):\n",
    "        #fxn = f(xn)\n",
    "    Dfxn = Df(xn)\n",
    "    i=1\n",
    "    while ln.norm(Dfxn)>0.0001:\n",
    "        xn_ =xn\n",
    "        \n",
    "        Dfxn = Df(xn)\n",
    "        Fxn = F(xn)\n",
    "        \n",
    "        if Fxn == 0 :\n",
    "            print('Zero derivative. No solution found.')\n",
    "            break\n",
    "        #\n",
    "        xn = xn - Dfxn/Fxn\n",
    "        i+=1\n",
    "        #if ln.norm(xn_ - xn) < epsilon:\n",
    "            #print('Found solution after',n,'iterations.')\n",
    "    return xn,i\n",
    "    #print('Exceeded maximum iterations. No solution found.')\n",
    "    #return None"
   ]
  },
  {
   "cell_type": "code",
   "execution_count": 10,
   "id": "eb38424e",
   "metadata": {},
   "outputs": [
    {
     "data": {
      "text/plain": [
       "(0.5, 3)"
      ]
     },
     "execution_count": 10,
     "metadata": {},
     "output_type": "execute_result"
    }
   ],
   "source": [
    "f = lambda x: x**2 - x - 1\n",
    "Df = lambda x: 2*x - 1\n",
    "F = lambda x : 2\n",
    "newton(f,Df,F,1,1e-8,10)"
   ]
  },
  {
   "cell_type": "markdown",
   "id": "b8adca8c",
   "metadata": {},
   "source": [
    "# steepest descent for General function\n",
    "\n"
   ]
  },
  {
   "cell_type": "code",
   "execution_count": 2,
   "id": "1a126ebc",
   "metadata": {},
   "outputs": [],
   "source": [
    "def f(x):\n",
    "    return (x[0]-4)**4 + (x[1]-3)**2 +4*(x[2]+5)**4\n",
    "\n",
    "def df(x):\n",
    "    return np.array([4*(x[0]-4)**3, 2*(x[1]-3),16*(x[2]+5)**3])\n",
    "\n"
   ]
  },
  {
   "cell_type": "code",
   "execution_count": 42,
   "id": "69332845",
   "metadata": {},
   "outputs": [
    {
     "name": "stdout",
     "output_type": "stream",
     "text": [
      "[-1.5103457]\n",
      "[[-1.51034568]]\n",
      "[-1.51034567]\n",
      "[[-1.51034571]]\n",
      "[-7.54730479]\n",
      "[[-7.54730481]]\n",
      "[-1.51034569]\n",
      "[[-1.51034569]]\n",
      "[-1.51034569]\n",
      "[[-1.5103457]]\n",
      "[-7.5473048]\n",
      "[[-7.54730481]]\n",
      "[4.53017534]\n",
      "[[4.53017533]]\n",
      "[4.53017536]\n",
      "[[4.53017533]]\n",
      "[-1.51034569]\n",
      "[[-1.51034569]]\n",
      "[-1.5103457]\n",
      "[[-1.51034568]]\n",
      "[4.53017533]\n",
      "[[4.53017534]]\n",
      "[-1.51034569]\n",
      "[[-1.51034568]]\n",
      "[-7.5473048]\n",
      "[[-7.54730482]]\n",
      "[-7.54730483]\n",
      "[[-7.5473048]]\n",
      "[-1.51034567]\n",
      "[[-1.5103457]]\n",
      "[4.53017534]\n",
      "[[4.53017534]]\n",
      "[-1.51034569]\n",
      "[[-1.51034569]]\n",
      "[-1.51034571]\n",
      "[[-1.5103457]]\n",
      "[-1.5103457]\n",
      "[[-1.51034567]]\n",
      "[-1.51034567]\n",
      "[[-1.5103457]]\n",
      "[-7.54730479]\n",
      "[[-7.54730481]]\n",
      "[[-7.54730482]]\n"
     ]
    }
   ],
   "source": [
    "def f(x):\n",
    "    return 50*np.sin(x) + x**2\n",
    "\n",
    "def d1(x):\n",
    "    return np.array([50*np.cos(x) + 2*x])\n",
    "\n",
    "x0 = 7\n",
    "y1 = []\n",
    "x1 = []\n",
    "for x0 in range(-10,11,1):\n",
    "    x,i = steep_desc(x0,d1)\n",
    "    x1.append(x)\n",
    "    y1.append(x0)\n",
    "    \n",
    "    \n",
    "print(min(x1))"
   ]
  },
  {
   "cell_type": "code",
   "execution_count": 43,
   "id": "3e8e1708",
   "metadata": {},
   "outputs": [],
   "source": [
    "x0 = np.array([4, 2,-1])\n",
    "x = x0\n",
    "#print(x)\n",
    "\n",
    "def steep_desc(x,df):\n",
    "    def f1d(alpha):\n",
    "        return f(x - alpha*df(x))\n",
    "\n",
    "    #alpha=alpha0\n",
    "    i=0\n",
    "    \n",
    "    norm=5\n",
    "        #for i in range(20):\n",
    "    while norm>0.05 :\n",
    "\n",
    "            #s = df(x)\n",
    "        alpha_opt = sp.optimize.golden(f1d)\n",
    "\n",
    "\n",
    "        print(alpha_opt)\n",
    "        x_old =x\n",
    "        x = x - alpha_opt * df(x)\n",
    "        norm =np.linalg.norm(x_old-x)\n",
    "        print(x)\n",
    "        i+=1\n",
    "    return x,i\n",
    "    #guesses.append(next_guess)\n",
    "\n",
    "\n"
   ]
  },
  {
   "cell_type": "code",
   "execution_count": 44,
   "id": "c7bf0370",
   "metadata": {},
   "outputs": [
    {
     "ename": "ValueError",
     "evalue": "The truth value of an array with more than one element is ambiguous. Use a.any() or a.all()",
     "output_type": "error",
     "traceback": [
      "\u001b[1;31m---------------------------------------------------------------------------\u001b[0m",
      "\u001b[1;31mValueError\u001b[0m                                Traceback (most recent call last)",
      "\u001b[1;32m<ipython-input-44-d7e14f6696ee>\u001b[0m in \u001b[0;36m<module>\u001b[1;34m\u001b[0m\n\u001b[1;32m----> 1\u001b[1;33m \u001b[0mx\u001b[0m\u001b[1;33m,\u001b[0m\u001b[0mi\u001b[0m \u001b[1;33m=\u001b[0m \u001b[0msteep_desc\u001b[0m\u001b[1;33m(\u001b[0m\u001b[0mx0\u001b[0m\u001b[1;33m,\u001b[0m\u001b[0mdf\u001b[0m\u001b[1;33m)\u001b[0m\u001b[1;33m\u001b[0m\u001b[1;33m\u001b[0m\u001b[0m\n\u001b[0m\u001b[0;32m      2\u001b[0m \u001b[0mprint\u001b[0m\u001b[1;33m(\u001b[0m\u001b[1;34m'Solution obtained by Steepest descent after'\u001b[0m\u001b[1;33m,\u001b[0m\u001b[0mi\u001b[0m\u001b[1;33m,\u001b[0m\u001b[1;34m'th iteration ='\u001b[0m\u001b[1;33m,\u001b[0m\u001b[0mx\u001b[0m\u001b[1;33m)\u001b[0m\u001b[1;33m\u001b[0m\u001b[1;33m\u001b[0m\u001b[0m\n",
      "\u001b[1;32m<ipython-input-43-02f24b5e67be>\u001b[0m in \u001b[0;36msteep_desc\u001b[1;34m(x, df)\u001b[0m\n\u001b[0;32m     15\u001b[0m \u001b[1;33m\u001b[0m\u001b[0m\n\u001b[0;32m     16\u001b[0m             \u001b[1;31m#s = df(x)\u001b[0m\u001b[1;33m\u001b[0m\u001b[1;33m\u001b[0m\u001b[1;33m\u001b[0m\u001b[0m\n\u001b[1;32m---> 17\u001b[1;33m         \u001b[0malpha_opt\u001b[0m \u001b[1;33m=\u001b[0m \u001b[0msp\u001b[0m\u001b[1;33m.\u001b[0m\u001b[0moptimize\u001b[0m\u001b[1;33m.\u001b[0m\u001b[0mgolden\u001b[0m\u001b[1;33m(\u001b[0m\u001b[0mf1d\u001b[0m\u001b[1;33m)\u001b[0m\u001b[1;33m\u001b[0m\u001b[1;33m\u001b[0m\u001b[0m\n\u001b[0m\u001b[0;32m     18\u001b[0m \u001b[1;33m\u001b[0m\u001b[0m\n\u001b[0;32m     19\u001b[0m \u001b[1;33m\u001b[0m\u001b[0m\n",
      "\u001b[1;32m~\\anaconda3\\lib\\site-packages\\scipy\\optimize\\optimize.py\u001b[0m in \u001b[0;36mgolden\u001b[1;34m(func, args, brack, tol, full_output, maxiter)\u001b[0m\n\u001b[0;32m   2397\u001b[0m     \"\"\"\n\u001b[0;32m   2398\u001b[0m     \u001b[0moptions\u001b[0m \u001b[1;33m=\u001b[0m \u001b[1;33m{\u001b[0m\u001b[1;34m'xtol'\u001b[0m\u001b[1;33m:\u001b[0m \u001b[0mtol\u001b[0m\u001b[1;33m,\u001b[0m \u001b[1;34m'maxiter'\u001b[0m\u001b[1;33m:\u001b[0m \u001b[0mmaxiter\u001b[0m\u001b[1;33m}\u001b[0m\u001b[1;33m\u001b[0m\u001b[1;33m\u001b[0m\u001b[0m\n\u001b[1;32m-> 2399\u001b[1;33m     \u001b[0mres\u001b[0m \u001b[1;33m=\u001b[0m \u001b[0m_minimize_scalar_golden\u001b[0m\u001b[1;33m(\u001b[0m\u001b[0mfunc\u001b[0m\u001b[1;33m,\u001b[0m \u001b[0mbrack\u001b[0m\u001b[1;33m,\u001b[0m \u001b[0margs\u001b[0m\u001b[1;33m,\u001b[0m \u001b[1;33m**\u001b[0m\u001b[0moptions\u001b[0m\u001b[1;33m)\u001b[0m\u001b[1;33m\u001b[0m\u001b[1;33m\u001b[0m\u001b[0m\n\u001b[0m\u001b[0;32m   2400\u001b[0m     \u001b[1;32mif\u001b[0m \u001b[0mfull_output\u001b[0m\u001b[1;33m:\u001b[0m\u001b[1;33m\u001b[0m\u001b[1;33m\u001b[0m\u001b[0m\n\u001b[0;32m   2401\u001b[0m         \u001b[1;32mreturn\u001b[0m \u001b[0mres\u001b[0m\u001b[1;33m[\u001b[0m\u001b[1;34m'x'\u001b[0m\u001b[1;33m]\u001b[0m\u001b[1;33m,\u001b[0m \u001b[0mres\u001b[0m\u001b[1;33m[\u001b[0m\u001b[1;34m'fun'\u001b[0m\u001b[1;33m]\u001b[0m\u001b[1;33m,\u001b[0m \u001b[0mres\u001b[0m\u001b[1;33m[\u001b[0m\u001b[1;34m'nfev'\u001b[0m\u001b[1;33m]\u001b[0m\u001b[1;33m\u001b[0m\u001b[1;33m\u001b[0m\u001b[0m\n",
      "\u001b[1;32m~\\anaconda3\\lib\\site-packages\\scipy\\optimize\\optimize.py\u001b[0m in \u001b[0;36m_minimize_scalar_golden\u001b[1;34m(func, brack, args, xtol, maxiter, **unknown_options)\u001b[0m\n\u001b[0;32m   2418\u001b[0m     \u001b[0mtol\u001b[0m \u001b[1;33m=\u001b[0m \u001b[0mxtol\u001b[0m\u001b[1;33m\u001b[0m\u001b[1;33m\u001b[0m\u001b[0m\n\u001b[0;32m   2419\u001b[0m     \u001b[1;32mif\u001b[0m \u001b[0mbrack\u001b[0m \u001b[1;32mis\u001b[0m \u001b[1;32mNone\u001b[0m\u001b[1;33m:\u001b[0m\u001b[1;33m\u001b[0m\u001b[1;33m\u001b[0m\u001b[0m\n\u001b[1;32m-> 2420\u001b[1;33m         \u001b[0mxa\u001b[0m\u001b[1;33m,\u001b[0m \u001b[0mxb\u001b[0m\u001b[1;33m,\u001b[0m \u001b[0mxc\u001b[0m\u001b[1;33m,\u001b[0m \u001b[0mfa\u001b[0m\u001b[1;33m,\u001b[0m \u001b[0mfb\u001b[0m\u001b[1;33m,\u001b[0m \u001b[0mfc\u001b[0m\u001b[1;33m,\u001b[0m \u001b[0mfuncalls\u001b[0m \u001b[1;33m=\u001b[0m \u001b[0mbracket\u001b[0m\u001b[1;33m(\u001b[0m\u001b[0mfunc\u001b[0m\u001b[1;33m,\u001b[0m \u001b[0margs\u001b[0m\u001b[1;33m=\u001b[0m\u001b[0margs\u001b[0m\u001b[1;33m)\u001b[0m\u001b[1;33m\u001b[0m\u001b[1;33m\u001b[0m\u001b[0m\n\u001b[0m\u001b[0;32m   2421\u001b[0m     \u001b[1;32melif\u001b[0m \u001b[0mlen\u001b[0m\u001b[1;33m(\u001b[0m\u001b[0mbrack\u001b[0m\u001b[1;33m)\u001b[0m \u001b[1;33m==\u001b[0m \u001b[1;36m2\u001b[0m\u001b[1;33m:\u001b[0m\u001b[1;33m\u001b[0m\u001b[1;33m\u001b[0m\u001b[0m\n\u001b[0;32m   2422\u001b[0m         xa, xb, xc, fa, fb, fc, funcalls = bracket(func, xa=brack[0],\n",
      "\u001b[1;32m~\\anaconda3\\lib\\site-packages\\scipy\\optimize\\optimize.py\u001b[0m in \u001b[0;36mbracket\u001b[1;34m(func, xa, xb, args, grow_limit, maxiter)\u001b[0m\n\u001b[0;32m   2538\u001b[0m     \u001b[0mfa\u001b[0m \u001b[1;33m=\u001b[0m \u001b[0mfunc\u001b[0m\u001b[1;33m(\u001b[0m\u001b[1;33m*\u001b[0m\u001b[1;33m(\u001b[0m\u001b[0mxa\u001b[0m\u001b[1;33m,\u001b[0m\u001b[1;33m)\u001b[0m \u001b[1;33m+\u001b[0m \u001b[0margs\u001b[0m\u001b[1;33m)\u001b[0m\u001b[1;33m\u001b[0m\u001b[1;33m\u001b[0m\u001b[0m\n\u001b[0;32m   2539\u001b[0m     \u001b[0mfb\u001b[0m \u001b[1;33m=\u001b[0m \u001b[0mfunc\u001b[0m\u001b[1;33m(\u001b[0m\u001b[1;33m*\u001b[0m\u001b[1;33m(\u001b[0m\u001b[0mxb\u001b[0m\u001b[1;33m,\u001b[0m\u001b[1;33m)\u001b[0m \u001b[1;33m+\u001b[0m \u001b[0margs\u001b[0m\u001b[1;33m)\u001b[0m\u001b[1;33m\u001b[0m\u001b[1;33m\u001b[0m\u001b[0m\n\u001b[1;32m-> 2540\u001b[1;33m     \u001b[1;32mif\u001b[0m \u001b[1;33m(\u001b[0m\u001b[0mfa\u001b[0m \u001b[1;33m<\u001b[0m \u001b[0mfb\u001b[0m\u001b[1;33m)\u001b[0m\u001b[1;33m:\u001b[0m                      \u001b[1;31m# Switch so fa > fb\u001b[0m\u001b[1;33m\u001b[0m\u001b[1;33m\u001b[0m\u001b[0m\n\u001b[0m\u001b[0;32m   2541\u001b[0m         \u001b[0mxa\u001b[0m\u001b[1;33m,\u001b[0m \u001b[0mxb\u001b[0m \u001b[1;33m=\u001b[0m \u001b[0mxb\u001b[0m\u001b[1;33m,\u001b[0m \u001b[0mxa\u001b[0m\u001b[1;33m\u001b[0m\u001b[1;33m\u001b[0m\u001b[0m\n\u001b[0;32m   2542\u001b[0m         \u001b[0mfa\u001b[0m\u001b[1;33m,\u001b[0m \u001b[0mfb\u001b[0m \u001b[1;33m=\u001b[0m \u001b[0mfb\u001b[0m\u001b[1;33m,\u001b[0m \u001b[0mfa\u001b[0m\u001b[1;33m\u001b[0m\u001b[1;33m\u001b[0m\u001b[0m\n",
      "\u001b[1;31mValueError\u001b[0m: The truth value of an array with more than one element is ambiguous. Use a.any() or a.all()"
     ]
    }
   ],
   "source": [
    "x,i = steep_desc(x0,df)\n",
    "print('Solution obtained by Steepest descent after',i,'th iteration =',x)"
   ]
  },
  {
   "cell_type": "markdown",
   "id": "c3393b86",
   "metadata": {},
   "source": [
    "# Steepest descent for quadratic functions"
   ]
  },
  {
   "cell_type": "code",
   "execution_count": 37,
   "id": "01837dfa",
   "metadata": {},
   "outputs": [
    {
     "name": "stdout",
     "output_type": "stream",
     "text": [
      "Solution obtained by Steepest descent after 20 th iteration = [ 1.00152815 -0.01880886  0.01779009]\n"
     ]
    },
    {
     "ename": "TypeError",
     "evalue": "f() missing 3 required positional arguments: 'A', 'b', and 'c'",
     "output_type": "error",
     "traceback": [
      "\u001b[1;31m---------------------------------------------------------------------------\u001b[0m",
      "\u001b[1;31mTypeError\u001b[0m                                 Traceback (most recent call last)",
      "\u001b[1;32m<ipython-input-37-8563bb0e264d>\u001b[0m in \u001b[0;36m<module>\u001b[1;34m\u001b[0m\n\u001b[0;32m     35\u001b[0m         \u001b[0mi\u001b[0m\u001b[1;33m+=\u001b[0m\u001b[1;36m1\u001b[0m\u001b[1;33m\u001b[0m\u001b[1;33m\u001b[0m\u001b[0m\n\u001b[0;32m     36\u001b[0m     \u001b[1;32mreturn\u001b[0m \u001b[0mx\u001b[0m\u001b[1;33m,\u001b[0m\u001b[0mi\u001b[0m\u001b[1;33m\u001b[0m\u001b[1;33m\u001b[0m\u001b[0m\n\u001b[1;32m---> 37\u001b[1;33m \u001b[0mx\u001b[0m\u001b[1;33m,\u001b[0m\u001b[0mj\u001b[0m \u001b[1;33m=\u001b[0m\u001b[0mstp_q\u001b[0m\u001b[1;33m(\u001b[0m\u001b[0mA\u001b[0m\u001b[1;33m,\u001b[0m\u001b[0mb\u001b[0m\u001b[1;33m,\u001b[0m\u001b[0mx0\u001b[0m\u001b[1;33m)\u001b[0m\u001b[1;33m\u001b[0m\u001b[1;33m\u001b[0m\u001b[0m\n\u001b[0m",
      "\u001b[1;32m<ipython-input-37-8563bb0e264d>\u001b[0m in \u001b[0;36mstp_q\u001b[1;34m(A, b, x0)\u001b[0m\n\u001b[0;32m     25\u001b[0m \u001b[1;33m\u001b[0m\u001b[0m\n\u001b[0;32m     26\u001b[0m                 \u001b[1;31m#s = df(x)\u001b[0m\u001b[1;33m\u001b[0m\u001b[1;33m\u001b[0m\u001b[1;33m\u001b[0m\u001b[0m\n\u001b[1;32m---> 27\u001b[1;33m         \u001b[0malpha_opt\u001b[0m \u001b[1;33m=\u001b[0m \u001b[0msp\u001b[0m\u001b[1;33m.\u001b[0m\u001b[0moptimize\u001b[0m\u001b[1;33m.\u001b[0m\u001b[0mgolden\u001b[0m\u001b[1;33m(\u001b[0m\u001b[0mf1d\u001b[0m\u001b[1;33m)\u001b[0m\u001b[1;33m\u001b[0m\u001b[1;33m\u001b[0m\u001b[0m\n\u001b[0m\u001b[0;32m     28\u001b[0m \u001b[1;33m\u001b[0m\u001b[0m\n\u001b[0;32m     29\u001b[0m \u001b[1;33m\u001b[0m\u001b[0m\n",
      "\u001b[1;32m~\\anaconda3\\lib\\site-packages\\scipy\\optimize\\optimize.py\u001b[0m in \u001b[0;36mgolden\u001b[1;34m(func, args, brack, tol, full_output, maxiter)\u001b[0m\n\u001b[0;32m   2397\u001b[0m     \"\"\"\n\u001b[0;32m   2398\u001b[0m     \u001b[0moptions\u001b[0m \u001b[1;33m=\u001b[0m \u001b[1;33m{\u001b[0m\u001b[1;34m'xtol'\u001b[0m\u001b[1;33m:\u001b[0m \u001b[0mtol\u001b[0m\u001b[1;33m,\u001b[0m \u001b[1;34m'maxiter'\u001b[0m\u001b[1;33m:\u001b[0m \u001b[0mmaxiter\u001b[0m\u001b[1;33m}\u001b[0m\u001b[1;33m\u001b[0m\u001b[1;33m\u001b[0m\u001b[0m\n\u001b[1;32m-> 2399\u001b[1;33m     \u001b[0mres\u001b[0m \u001b[1;33m=\u001b[0m \u001b[0m_minimize_scalar_golden\u001b[0m\u001b[1;33m(\u001b[0m\u001b[0mfunc\u001b[0m\u001b[1;33m,\u001b[0m \u001b[0mbrack\u001b[0m\u001b[1;33m,\u001b[0m \u001b[0margs\u001b[0m\u001b[1;33m,\u001b[0m \u001b[1;33m**\u001b[0m\u001b[0moptions\u001b[0m\u001b[1;33m)\u001b[0m\u001b[1;33m\u001b[0m\u001b[1;33m\u001b[0m\u001b[0m\n\u001b[0m\u001b[0;32m   2400\u001b[0m     \u001b[1;32mif\u001b[0m \u001b[0mfull_output\u001b[0m\u001b[1;33m:\u001b[0m\u001b[1;33m\u001b[0m\u001b[1;33m\u001b[0m\u001b[0m\n\u001b[0;32m   2401\u001b[0m         \u001b[1;32mreturn\u001b[0m \u001b[0mres\u001b[0m\u001b[1;33m[\u001b[0m\u001b[1;34m'x'\u001b[0m\u001b[1;33m]\u001b[0m\u001b[1;33m,\u001b[0m \u001b[0mres\u001b[0m\u001b[1;33m[\u001b[0m\u001b[1;34m'fun'\u001b[0m\u001b[1;33m]\u001b[0m\u001b[1;33m,\u001b[0m \u001b[0mres\u001b[0m\u001b[1;33m[\u001b[0m\u001b[1;34m'nfev'\u001b[0m\u001b[1;33m]\u001b[0m\u001b[1;33m\u001b[0m\u001b[1;33m\u001b[0m\u001b[0m\n",
      "\u001b[1;32m~\\anaconda3\\lib\\site-packages\\scipy\\optimize\\optimize.py\u001b[0m in \u001b[0;36m_minimize_scalar_golden\u001b[1;34m(func, brack, args, xtol, maxiter, **unknown_options)\u001b[0m\n\u001b[0;32m   2418\u001b[0m     \u001b[0mtol\u001b[0m \u001b[1;33m=\u001b[0m \u001b[0mxtol\u001b[0m\u001b[1;33m\u001b[0m\u001b[1;33m\u001b[0m\u001b[0m\n\u001b[0;32m   2419\u001b[0m     \u001b[1;32mif\u001b[0m \u001b[0mbrack\u001b[0m \u001b[1;32mis\u001b[0m \u001b[1;32mNone\u001b[0m\u001b[1;33m:\u001b[0m\u001b[1;33m\u001b[0m\u001b[1;33m\u001b[0m\u001b[0m\n\u001b[1;32m-> 2420\u001b[1;33m         \u001b[0mxa\u001b[0m\u001b[1;33m,\u001b[0m \u001b[0mxb\u001b[0m\u001b[1;33m,\u001b[0m \u001b[0mxc\u001b[0m\u001b[1;33m,\u001b[0m \u001b[0mfa\u001b[0m\u001b[1;33m,\u001b[0m \u001b[0mfb\u001b[0m\u001b[1;33m,\u001b[0m \u001b[0mfc\u001b[0m\u001b[1;33m,\u001b[0m \u001b[0mfuncalls\u001b[0m \u001b[1;33m=\u001b[0m \u001b[0mbracket\u001b[0m\u001b[1;33m(\u001b[0m\u001b[0mfunc\u001b[0m\u001b[1;33m,\u001b[0m \u001b[0margs\u001b[0m\u001b[1;33m=\u001b[0m\u001b[0margs\u001b[0m\u001b[1;33m)\u001b[0m\u001b[1;33m\u001b[0m\u001b[1;33m\u001b[0m\u001b[0m\n\u001b[0m\u001b[0;32m   2421\u001b[0m     \u001b[1;32melif\u001b[0m \u001b[0mlen\u001b[0m\u001b[1;33m(\u001b[0m\u001b[0mbrack\u001b[0m\u001b[1;33m)\u001b[0m \u001b[1;33m==\u001b[0m \u001b[1;36m2\u001b[0m\u001b[1;33m:\u001b[0m\u001b[1;33m\u001b[0m\u001b[1;33m\u001b[0m\u001b[0m\n\u001b[0;32m   2422\u001b[0m         xa, xb, xc, fa, fb, fc, funcalls = bracket(func, xa=brack[0],\n",
      "\u001b[1;32m~\\anaconda3\\lib\\site-packages\\scipy\\optimize\\optimize.py\u001b[0m in \u001b[0;36mbracket\u001b[1;34m(func, xa, xb, args, grow_limit, maxiter)\u001b[0m\n\u001b[0;32m   2536\u001b[0m     \u001b[0m_gold\u001b[0m \u001b[1;33m=\u001b[0m \u001b[1;36m1.618034\u001b[0m  \u001b[1;31m# golden ratio: (1.0+sqrt(5.0))/2.0\u001b[0m\u001b[1;33m\u001b[0m\u001b[1;33m\u001b[0m\u001b[0m\n\u001b[0;32m   2537\u001b[0m     \u001b[0m_verysmall_num\u001b[0m \u001b[1;33m=\u001b[0m \u001b[1;36m1e-21\u001b[0m\u001b[1;33m\u001b[0m\u001b[1;33m\u001b[0m\u001b[0m\n\u001b[1;32m-> 2538\u001b[1;33m     \u001b[0mfa\u001b[0m \u001b[1;33m=\u001b[0m \u001b[0mfunc\u001b[0m\u001b[1;33m(\u001b[0m\u001b[1;33m*\u001b[0m\u001b[1;33m(\u001b[0m\u001b[0mxa\u001b[0m\u001b[1;33m,\u001b[0m\u001b[1;33m)\u001b[0m \u001b[1;33m+\u001b[0m \u001b[0margs\u001b[0m\u001b[1;33m)\u001b[0m\u001b[1;33m\u001b[0m\u001b[1;33m\u001b[0m\u001b[0m\n\u001b[0m\u001b[0;32m   2539\u001b[0m     \u001b[0mfb\u001b[0m \u001b[1;33m=\u001b[0m \u001b[0mfunc\u001b[0m\u001b[1;33m(\u001b[0m\u001b[1;33m*\u001b[0m\u001b[1;33m(\u001b[0m\u001b[0mxb\u001b[0m\u001b[1;33m,\u001b[0m\u001b[1;33m)\u001b[0m \u001b[1;33m+\u001b[0m \u001b[0margs\u001b[0m\u001b[1;33m)\u001b[0m\u001b[1;33m\u001b[0m\u001b[1;33m\u001b[0m\u001b[0m\n\u001b[0;32m   2540\u001b[0m     \u001b[1;32mif\u001b[0m \u001b[1;33m(\u001b[0m\u001b[0mfa\u001b[0m \u001b[1;33m<\u001b[0m \u001b[0mfb\u001b[0m\u001b[1;33m)\u001b[0m\u001b[1;33m:\u001b[0m                      \u001b[1;31m# Switch so fa > fb\u001b[0m\u001b[1;33m\u001b[0m\u001b[1;33m\u001b[0m\u001b[0m\n",
      "\u001b[1;32m<ipython-input-37-8563bb0e264d>\u001b[0m in \u001b[0;36mf1d\u001b[1;34m(alpha)\u001b[0m\n\u001b[0;32m     15\u001b[0m     \u001b[0mx\u001b[0m \u001b[1;33m=\u001b[0m\u001b[0mx0\u001b[0m\u001b[1;33m\u001b[0m\u001b[1;33m\u001b[0m\u001b[0m\n\u001b[0;32m     16\u001b[0m     \u001b[1;32mdef\u001b[0m \u001b[0mf1d\u001b[0m\u001b[1;33m(\u001b[0m\u001b[0malpha\u001b[0m\u001b[1;33m)\u001b[0m\u001b[1;33m:\u001b[0m\u001b[1;33m\u001b[0m\u001b[1;33m\u001b[0m\u001b[0m\n\u001b[1;32m---> 17\u001b[1;33m             \u001b[1;32mreturn\u001b[0m \u001b[0mf\u001b[0m\u001b[1;33m(\u001b[0m\u001b[0mx\u001b[0m \u001b[1;33m-\u001b[0m \u001b[0malpha\u001b[0m\u001b[1;33m*\u001b[0m\u001b[0mderv1\u001b[0m\u001b[1;33m(\u001b[0m\u001b[0mx\u001b[0m\u001b[1;33m,\u001b[0m\u001b[0mA\u001b[0m\u001b[1;33m,\u001b[0m\u001b[0mb\u001b[0m\u001b[1;33m)\u001b[0m\u001b[1;33m)\u001b[0m\u001b[1;33m\u001b[0m\u001b[1;33m\u001b[0m\u001b[0m\n\u001b[0m\u001b[0;32m     18\u001b[0m \u001b[1;33m\u001b[0m\u001b[0m\n\u001b[0;32m     19\u001b[0m         \u001b[1;31m#alpha=alpha0\u001b[0m\u001b[1;33m\u001b[0m\u001b[1;33m\u001b[0m\u001b[1;33m\u001b[0m\u001b[0m\n",
      "\u001b[1;31mTypeError\u001b[0m: f() missing 3 required positional arguments: 'A', 'b', and 'c'"
     ]
    }
   ],
   "source": [
    "def f(x, A, b, c):\n",
    "    return float(0.5 * x.T * A * x - b.T * x + c)\n",
    "\n",
    "c=0\n",
    "A = np.array([[3,0,1],[0,4,2],[1,2,3]])\n",
    "b = np.array([[3,0,1]])\n",
    "x0 = np.matrix([[0.0],[0.0],[0.0]])\n",
    "\n",
    "def derv1(x,A,b):\n",
    "    return np.array(np.dot(A,x) - b)\n",
    "c=derv1(x,A,b)\n",
    "#x,i = steep_desc(x0,c)\n",
    "print('Solution obtained by Steepest descent after',i,'th iteration =',x)\n",
    "def stp_q(A,b,x0):\n",
    "    x =x0\n",
    "    def f1d(alpha):\n",
    "            return f(x - alpha*derv1(x,A,b))\n",
    "\n",
    "        #alpha=alpha0\n",
    "    i=0\n",
    "\n",
    "    norm=5\n",
    "            #for i in range(20):\n",
    "    while norm>0.05 :\n",
    "\n",
    "                #s = df(x)\n",
    "        alpha_opt = sp.optimize.golden(f1d)\n",
    "\n",
    "\n",
    "        print(alpha_opt)\n",
    "        x_old =x\n",
    "        x = x - alpha_opt * derv1(x)\n",
    "        norm =np.linalg.norm(x_old-x)\n",
    "        print(x)\n",
    "        i+=1\n",
    "    return x,i\n",
    "x,j =stp_q(A,b,x0)"
   ]
  },
  {
   "cell_type": "code",
   "execution_count": 14,
   "id": "e5178913",
   "metadata": {},
   "outputs": [],
   "source": [
    "A = np.array([[3,0,1],[0,4,2],[1,2,3]])\n",
    "b = np.array([[3,0,1]])"
   ]
  },
  {
   "cell_type": "code",
   "execution_count": 15,
   "id": "bb780c2a",
   "metadata": {},
   "outputs": [
    {
     "name": "stdout",
     "output_type": "stream",
     "text": [
      "b:\n",
      " [[ 2.]\n",
      " [-8.]]\n",
      "A:\n",
      " [[3. 2.]\n",
      " [2. 6.]]\n",
      "x:\n",
      " [[ 1.97039822]\n",
      " [-1.97862094]]\n",
      "r:\n",
      " [[ 0.04604721]\n",
      " [-0.06907081]]\n",
      "7\n"
     ]
    }
   ],
   "source": [
    "A = np.matrix([[3.0, 2.0], [2.0, 6.0]])\n",
    "b = np.matrix([[2.0], [-8.0]])  # we will use the convention that a vector is a column vector\n",
    "c = 0.0\n",
    "\n",
    "def f(x, A, b, c):\n",
    "    return float(0.5 * x.T * A * x - b.T * x + c)\n",
    "\n",
    "x = np.matrix([[-2.0],[-2.0]])\n",
    "steps = [(-2.0, -2.0)]\n",
    "i = 0\n",
    "imax = 10\n",
    "eps = 0.01\n",
    "r = b - A * x\n",
    "delta = r.T * r\n",
    "delta0 = delta\n",
    "while i < imax and delta > eps**2 * delta0:\n",
    "    alpha = float(delta / (r.T * (A * r)))\n",
    "    x = x + alpha * r\n",
    "    steps.append((x[0,0], x[1,0]))  # store steps for future drawing\n",
    "    r = b - A * x\n",
    "    delta = r.T * r\n",
    "    i += 1\n",
    "    \n",
    "print ('b:\\n', b)\n",
    "print ('A:\\n', A)\n",
    "print ('x:\\n', x)\n",
    "r = b - A * x\n",
    "print ('r:\\n', r)\n",
    "print(i)"
   ]
  },
  {
   "cell_type": "markdown",
   "id": "4b7cff3b",
   "metadata": {},
   "source": [
    "# steepest descent quadratic"
   ]
  },
  {
   "cell_type": "code",
   "execution_count": 21,
   "id": "2bd457ec",
   "metadata": {},
   "outputs": [
    {
     "name": "stdout",
     "output_type": "stream",
     "text": [
      "r:\n",
      " [[ 0.04604721]\n",
      " [-0.06907081]]\n",
      "Solution by steepest descent [[ 9.99982705e-01]\n",
      " [-2.50089839e-05]\n",
      " [ 2.71288876e-05]]\n"
     ]
    }
   ],
   "source": [
    "A = np.array([[3.0,0.0,1.0],[0.0,4.0,2.0],[1.0,2.0,3.0]])\n",
    "b = np.array([[3.0],[0.0],[1.0]])\n",
    "x0 = np.matrix([[0.0],[0.0],[0.0]])\n",
    "#steps = [(0.0, 0.0,0.0)]\n",
    "\n",
    "def steep_desc_q(A,b,x0):\n",
    "    i = 0\n",
    "    x =x0\n",
    "    gk = b - np.dot(A,x)\n",
    "    dk = gk.T * gk\n",
    "    d0 = dk\n",
    "    r = b - np.dot(A,x)\n",
    "    while ln.norm(r)>0.0001 :\n",
    "        alpha = float(dk / (np.dot(gk.T,np.dot(A , gk))))\n",
    "        x = x + alpha * gk\n",
    "        #steps.append((x[0,0], x[1,0],x[2,0]))  # store steps for future drawing\n",
    "        gk = b - np.dot(A ,x)\n",
    "        dk = np.dot(gk.T,gk)\n",
    "        r = b - np.dot(A,x)\n",
    "        \n",
    "        i += 1\n",
    "    return x,i\n",
    "\n",
    "#r = b - A * x\n",
    "print ('r:\\n', r)\n",
    "#print(i)\n",
    "x,i =steep_desc_q(A,b,x0)\n",
    "print('Solution by steepest descent',x)"
   ]
  },
  {
   "cell_type": "markdown",
   "id": "4621aeb2",
   "metadata": {},
   "source": [
    "# conjugate gradient"
   ]
  },
  {
   "cell_type": "code",
   "execution_count": 48,
   "id": "92db7a86",
   "metadata": {},
   "outputs": [
    {
     "name": "stdout",
     "output_type": "stream",
     "text": [
      "Soluton obtained by conjugate gradient method at 3 th iteration = [[ 1.00000000e+00]\n",
      " [-2.77555756e-17]\n",
      " [ 2.77555756e-17]]\n"
     ]
    }
   ],
   "source": [
    "A = np.array([[3.0,0.0,1.0],[0.0,4.0,2.0],[1.0,2.0,3.0]])\n",
    "b = np.array([[3.0],[0.0],[1.0]])\n",
    "x = np.matrix([[0.0],[0.0],[0.0]])\n",
    "\n",
    "\n",
    "def conjugate_grad(A,b,x):\n",
    "    i=0\n",
    "    gk = b - A * x\n",
    "    d = gk\n",
    "    deltanew = gk.T * gk\n",
    "    delta0 = deltanew\n",
    "    while  np.linalg.norm(gk) > 0.0001:\n",
    "        alpha = float((np.dot(gk.T,d ))/ float(np.dot(d.T ,(np.dot(A,d)))))\n",
    "        #print(alpha)\n",
    "        x = x + alpha * d\n",
    "        #steps.append((x[0, 0], x[1, 0]))\n",
    "        gk = b - A * x\n",
    "        deltaold = deltanew\n",
    "        deltanew = gk.T * gk\n",
    "        beta = -float(np.dot(gk.T,np.dot(A ,d)) / float(np.dot(d.T ,np.dot( A , d))))\n",
    "        #beta = float(deltanew / float(deltaold))\n",
    "        d = gk + beta * d\n",
    "        i+=1\n",
    "    return x,i\n",
    "\n",
    "x,i=conjugate_grad(A,b,x)\n",
    "print('Soluton obtained by conjugate gradient method at',i,'th iteration =',x)"
   ]
  },
  {
   "cell_type": "markdown",
   "id": "1b869e32",
   "metadata": {},
   "source": [
    "# conjugate direction"
   ]
  },
  {
   "cell_type": "code",
   "execution_count": 49,
   "id": "deb4b892",
   "metadata": {},
   "outputs": [],
   "source": [
    "def conjugate_dir_q(A,b,x0,d):\n",
    "    i=0\n",
    "    x = x0\n",
    "    gk = b - np.dot(A,x)\n",
    "    #d0 = d[0]\n",
    "    #deltanew = gk.T * gk\n",
    "    #delta0 = deltanew\n",
    "    #while  np.linalg.norm(gk) > 0.0001:\n",
    "    for i in (d):\n",
    "        alpha = (np.dot(gk.T,i) / (np.dot(i.T ,np.dot (A , i))))\n",
    "        #print(alpha)\n",
    "        x = x + alpha * i\n",
    "        #steps.append((x[0, 0], x[1, 0]))\n",
    "        gk = b - np.dot(A, x)\n",
    "        #print(gk)\n",
    "        print(x)\n",
    "        #deltaold = deltanew\n",
    "        #deltanew = gk.T * gk\n",
    "        #beta = -float((gk.T * A * d) / float(d.T * A * d))\n",
    "        #beta = float(deltanew / float(deltaold))\n",
    "        #d = gk + beta * d\n",
    "        #i+=1\n",
    "    return x"
   ]
  },
  {
   "cell_type": "code",
   "execution_count": 50,
   "id": "ee9a1d90",
   "metadata": {},
   "outputs": [
    {
     "name": "stdout",
     "output_type": "stream",
     "text": [
      "[-0.25  0.  ]\n",
      "[-1.   1.5]\n"
     ]
    },
    {
     "data": {
      "text/plain": [
       "array([-1. ,  1.5])"
      ]
     },
     "execution_count": 50,
     "metadata": {},
     "output_type": "execute_result"
    }
   ],
   "source": [
    "A = np.array([[4,2],[2,2]])\n",
    "b = np.array([-1,1])\n",
    "x0 = np.array([0,0])\n",
    "d = np.array([[1,0],[-3/8,3/4]])\n",
    "x = conjugate_dir_q(A,b,x0,d)\n",
    "x"
   ]
  },
  {
   "cell_type": "markdown",
   "id": "fdc887d9",
   "metadata": {},
   "source": [
    "# Newton's method for 1 variable function"
   ]
  },
  {
   "cell_type": "code",
   "execution_count": 52,
   "id": "a587a7e4",
   "metadata": {},
   "outputs": [
    {
     "data": {
      "text/plain": [
       "-0.7258613577662263"
      ]
     },
     "execution_count": 52,
     "metadata": {},
     "output_type": "execute_result"
    }
   ],
   "source": [
    "def newton_one(x0):\n",
    "    i=1\n",
    "    x=x0\n",
    "    while i<100:\n",
    "        \n",
    "        x=x-(f1(x)/f2(x))\n",
    "        #print(x)\n",
    "        if ln.norm(x-x0)<0.0001:\n",
    "            break\n",
    "        i+=1\n",
    "    return x,i\n",
    "def f(x):\n",
    "    return x**2 +3*np.exp(x) +1\n",
    "def f1(x):\n",
    "    return 2*x+3*np.exp(x)\n",
    "def f2(x):\n",
    "    return 2+3*np.exp(x)\n",
    "\n",
    "x0 = 0.5\n",
    "x,i = newton_one(x0)\n",
    "x"
   ]
  },
  {
   "cell_type": "code",
   "execution_count": 53,
   "id": "e2f4dae1",
   "metadata": {},
   "outputs": [],
   "source": [
    "#1"
   ]
  },
  {
   "cell_type": "code",
   "execution_count": 61,
   "id": "0c3eaff5",
   "metadata": {},
   "outputs": [],
   "source": [
    "def f(x):\n",
    "    return 2*(x[0]+3)**2 +7*(x[1]-3)**4 +(x[2]+1)**4 +(x[3]-5)**6\n",
    "def f1(x):\n",
    "    return np.array([4*(x[0]+3),28*(x[1]-3)**3,4*(x[2]+1)**3,6*(x[3]-5)**5])\n",
    "x0=np.array([2,1,1,4])\n"
   ]
  },
  {
   "cell_type": "code",
   "execution_count": 62,
   "id": "0d694b9e",
   "metadata": {},
   "outputs": [
    {
     "name": "stdout",
     "output_type": "stream",
     "text": [
      "0.011324333645712453\n",
      "[1.77351333 3.53665074 0.63762132 4.067946  ]\n",
      "0.16255694714259594\n",
      "[-1.33035769  2.83319179 -2.21803527  4.75400609]\n",
      "0.2333588121978058\n",
      "[-2.88886067  2.86351914 -0.53123452  4.75526733]\n",
      "0.3303979811816027\n",
      "[-3.03574151  2.8870377  -0.66736778  4.75700772]\n",
      "0.4084591158465354\n",
      "[-2.97734573  2.90352339 -0.72749921  4.75908389]\n",
      "0.4008712492203781\n",
      "[-3.01367151  2.91360266 -0.75994573  4.76103592]\n",
      "Solution obtained by Steepest descent after 6 th iteration = [-3.01367151  2.91360266 -0.75994573  4.76103592]\n"
     ]
    }
   ],
   "source": [
    "x,i = steep_desc(x0,f1)\n",
    "print('Solution obtained by Steepest descent after',i,'th iteration =',x)"
   ]
  },
  {
   "cell_type": "code",
   "execution_count": 63,
   "id": "19f43d57",
   "metadata": {},
   "outputs": [],
   "source": [
    "#2"
   ]
  },
  {
   "cell_type": "code",
   "execution_count": 23,
   "id": "f26c1aae",
   "metadata": {},
   "outputs": [
    {
     "ename": "TypeError",
     "evalue": "only size-1 arrays can be converted to Python scalars",
     "output_type": "error",
     "traceback": [
      "\u001b[1;31m---------------------------------------------------------------------------\u001b[0m",
      "\u001b[1;31mTypeError\u001b[0m                                 Traceback (most recent call last)",
      "\u001b[1;32m<ipython-input-23-b83528329752>\u001b[0m in \u001b[0;36m<module>\u001b[1;34m\u001b[0m\n\u001b[0;32m      5\u001b[0m \u001b[0mx0\u001b[0m \u001b[1;33m=\u001b[0m \u001b[0mnp\u001b[0m\u001b[1;33m.\u001b[0m\u001b[0marray\u001b[0m\u001b[1;33m(\u001b[0m\u001b[1;33m[\u001b[0m\u001b[1;33m[\u001b[0m\u001b[1;36m1.0\u001b[0m\u001b[1;33m]\u001b[0m\u001b[1;33m,\u001b[0m\u001b[1;33m[\u001b[0m\u001b[1;36m2.0\u001b[0m\u001b[1;33m]\u001b[0m\u001b[1;33m]\u001b[0m\u001b[1;33m)\u001b[0m\u001b[1;33m\u001b[0m\u001b[1;33m\u001b[0m\u001b[0m\n\u001b[0;32m      6\u001b[0m \u001b[1;33m\u001b[0m\u001b[0m\n\u001b[1;32m----> 7\u001b[1;33m \u001b[0mx\u001b[0m\u001b[1;33m,\u001b[0m\u001b[0mi\u001b[0m \u001b[1;33m=\u001b[0m\u001b[0msteep_desc_q\u001b[0m\u001b[1;33m(\u001b[0m\u001b[0mA\u001b[0m\u001b[1;33m,\u001b[0m\u001b[0mb\u001b[0m\u001b[1;33m,\u001b[0m\u001b[0mx0\u001b[0m\u001b[1;33m)\u001b[0m\u001b[1;33m\u001b[0m\u001b[1;33m\u001b[0m\u001b[0m\n\u001b[0m\u001b[0;32m      8\u001b[0m \u001b[0mprint\u001b[0m\u001b[1;33m(\u001b[0m\u001b[1;34m'Solution by steepest descent'\u001b[0m\u001b[1;33m,\u001b[0m\u001b[0mx\u001b[0m\u001b[1;33m)\u001b[0m\u001b[1;33m\u001b[0m\u001b[1;33m\u001b[0m\u001b[0m\n",
      "\u001b[1;32m<ipython-input-21-aae3196ab445>\u001b[0m in \u001b[0;36msteep_desc_q\u001b[1;34m(A, b, x0)\u001b[0m\n\u001b[0;32m     12\u001b[0m     \u001b[0mr\u001b[0m \u001b[1;33m=\u001b[0m \u001b[0mb\u001b[0m \u001b[1;33m-\u001b[0m \u001b[0mnp\u001b[0m\u001b[1;33m.\u001b[0m\u001b[0mdot\u001b[0m\u001b[1;33m(\u001b[0m\u001b[0mA\u001b[0m\u001b[1;33m,\u001b[0m\u001b[0mx\u001b[0m\u001b[1;33m)\u001b[0m\u001b[1;33m\u001b[0m\u001b[1;33m\u001b[0m\u001b[0m\n\u001b[0;32m     13\u001b[0m     \u001b[1;32mwhile\u001b[0m \u001b[0mln\u001b[0m\u001b[1;33m.\u001b[0m\u001b[0mnorm\u001b[0m\u001b[1;33m(\u001b[0m\u001b[0mr\u001b[0m\u001b[1;33m)\u001b[0m\u001b[1;33m>\u001b[0m\u001b[1;36m0.0001\u001b[0m \u001b[1;33m:\u001b[0m\u001b[1;33m\u001b[0m\u001b[1;33m\u001b[0m\u001b[0m\n\u001b[1;32m---> 14\u001b[1;33m         \u001b[0malpha\u001b[0m \u001b[1;33m=\u001b[0m \u001b[0mfloat\u001b[0m\u001b[1;33m(\u001b[0m\u001b[0mdk\u001b[0m \u001b[1;33m/\u001b[0m \u001b[1;33m(\u001b[0m\u001b[0mnp\u001b[0m\u001b[1;33m.\u001b[0m\u001b[0mdot\u001b[0m\u001b[1;33m(\u001b[0m\u001b[0mgk\u001b[0m\u001b[1;33m.\u001b[0m\u001b[0mT\u001b[0m\u001b[1;33m,\u001b[0m\u001b[0mnp\u001b[0m\u001b[1;33m.\u001b[0m\u001b[0mdot\u001b[0m\u001b[1;33m(\u001b[0m\u001b[0mA\u001b[0m \u001b[1;33m,\u001b[0m \u001b[0mgk\u001b[0m\u001b[1;33m)\u001b[0m\u001b[1;33m)\u001b[0m\u001b[1;33m)\u001b[0m\u001b[1;33m)\u001b[0m\u001b[1;33m\u001b[0m\u001b[1;33m\u001b[0m\u001b[0m\n\u001b[0m\u001b[0;32m     15\u001b[0m         \u001b[0mx\u001b[0m \u001b[1;33m=\u001b[0m \u001b[0mx\u001b[0m \u001b[1;33m+\u001b[0m \u001b[0malpha\u001b[0m \u001b[1;33m*\u001b[0m \u001b[0mgk\u001b[0m\u001b[1;33m\u001b[0m\u001b[1;33m\u001b[0m\u001b[0m\n\u001b[0;32m     16\u001b[0m         \u001b[1;31m#steps.append((x[0,0], x[1,0],x[2,0]))  # store steps for future drawing\u001b[0m\u001b[1;33m\u001b[0m\u001b[1;33m\u001b[0m\u001b[1;33m\u001b[0m\u001b[0m\n",
      "\u001b[1;31mTypeError\u001b[0m: only size-1 arrays can be converted to Python scalars"
     ]
    }
   ],
   "source": [
    "# f(x) = 0.2*x[0]**2 +x[1]**2\n",
    "# \n",
    "A = np.array([[0.4,0.0],[0.0,2.0]])\n",
    "b= np.array([[0.0],[0.0]])\n",
    "x0 = np.array([[1.0],[2.0]])\n",
    "\n",
    "x,i =steep_desc_q(A,b,x0)\n",
    "print('Solution by steepest descent',x)\n"
   ]
  },
  {
   "cell_type": "code",
   "execution_count": 5,
   "id": "07777859",
   "metadata": {},
   "outputs": [
    {
     "name": "stdout",
     "output_type": "stream",
     "text": [
      "             x        min\n",
      "1437 -1.514711 -47.627032\n"
     ]
    },
    {
     "data": {
      "image/png": "[encoded data removed]",
      "text/plain": [
       "<Figure size 432x288 with 1 Axes>"
      ]
     },
     "metadata": {
      "needs_background": "light"
     },
     "output_type": "display_data"
    }
   ],
   "source": [
    "import pandas as pd\n",
    "cur_x = -10 # The algorithm starts at x=3\n",
    "rate = 0.1 # Learning rate\n",
    "precision = 0.001 #This tells us when to stop the algorithm\n",
    "previous_step_size = 1 #\n",
    "max_iters = 1000 # maximum number of iterations\n",
    "iters = 0 #iteration counter\n",
    "df = lambda x: 50*np.cos(x) +2*x #Gradient of our function \n",
    "c_x = []\n",
    "fx = []\n",
    "\n",
    "while previous_step_size > precision and  cur_x <=10:\n",
    "    prev_x = cur_x #Store current x value in prev_x\n",
    "    cur_x = cur_x - rate * df(prev_x) #Grad descent\n",
    "    c_x.append(cur_x)\n",
    "    previous_step_size = abs(cur_x - prev_x) #Change in x\n",
    "    #iters = iters+1 #iteration count\n",
    "    #print(\"Iteration\",iters,\"\\nX value is\",cur_x) #Print iterations\n",
    "    t =50*np.sin(cur_x) +cur_x**2\n",
    "    fx.append(t)\n",
    "    \n",
    "#print(\"The local minimum occurs at\", cur_x)\n",
    "\n",
    "import matplotlib.pyplot as plt\n",
    "plt.scatter(c_x,fx)\n",
    "df = pd.DataFrame({'x':c_x,'min':fx})\n",
    "plt.title('Plot of f(x)')\n",
    "plt.xlabel('x')\n",
    "plt.ylabel('f(x)')\n",
    "min(fx)\n",
    "print(df.loc[(df['min'] == min(fx))])\n"
   ]
  },
  {
   "cell_type": "code",
   "execution_count": 114,
   "id": "ae892c37",
   "metadata": {},
   "outputs": [
    {
     "name": "stdout",
     "output_type": "stream",
     "text": [
      ">0 f(1.830488728283477) = 51.67414\n",
      ">1 f(2.7483073807069944) = 26.71444\n",
      ">2 f(6.816921145255615) = 71.90807\n",
      ">3 f(1.1489745995417726) = 46.93737\n",
      ">4 f(-1.1279361930240466) = -43.90425\n",
      ">5 f(-3.0449761051949427) = 4.44856\n",
      ">6 f(2.540700370323675) = 34.72409\n",
      ">7 f(6.156717623222503) = 31.59863\n",
      ">8 f(-0.03469397914479977) = -1.73315\n",
      ">9 f(-5.024746304670385) = 72.82867\n",
      ">10 f(-5.556310772811208) = 64.09946\n",
      ">11 f(-8.181323805489718) = 19.58905\n",
      ">12 f(-4.937421701696747) = 73.11747\n",
      ">13 f(-5.065628654129752) = 72.57344\n",
      ">14 f(-5.782199242347232) = 57.44836\n",
      ">15 f(-9.011306347159977) = 61.11410\n",
      ">16 f(-2.630387670640368) = -17.54249\n",
      ">17 f(2.2564680081072046) = 43.79134\n",
      ">18 f(4.971139564296072) = -23.62329\n",
      ">19 f(2.6975470096209793) = 28.75657\n",
      ">20 f(6.673142929502798) = 63.53830\n",
      ">21 f(0.7138884909593575) = 33.24852\n",
      ">22 f(-3.207996703765279) = 13.60901\n",
      ">23 f(2.4225829424580643) = 38.80090\n",
      ">24 f(5.700358062453104) = 4.97475\n",
      ">25 f(0.3857368942500363) = 18.96089\n",
      ">26 f(-4.324017653089786) = 64.97348\n",
      ">27 f(-1.5658064354235908) = -47.54763\n",
      ">28 f(-1.2775945016593768) = -46.23392\n",
      ">29 f(-2.4671700185498127) = -25.13540\n",
      ">30 f(1.931602059171385) = 50.51172\n",
      ">31 f(3.31042265341889) = 2.55744\n",
      ">32 f(7.577248301025653) = 105.51235\n",
      ">33 f(4.695724983305277) = -27.94322\n",
      ">34 f(3.8398961159237164) = -17.40116\n",
      ">35 f(6.901587020900498) = 76.61858\n",
      ">36 f(1.4472392304297648) = 51.71333\n",
      ">37 f(0.541576591959372) = 26.06769\n",
      ">38 f(-3.851223891687174) = 47.40963\n",
      ">39 f(0.712031866068287) = 33.17566\n",
      ">40 f(-3.215553869845629) = 14.03448\n",
      ">41 f(2.413887483328632) = 39.08474\n",
      ">42 f(5.664623942352546) = 3.09478\n",
      ">43 f(0.4581315950688847) = 22.32354\n",
      ">44 f(-4.117896763165812) = 58.37872\n",
      ">45 f(-0.49387659699682107) = -23.45823\n",
      ">46 f(-4.7976103097589915) = 72.83561\n",
      ">47 f(-4.26367930292922) = 63.22934\n",
      ">48 f(-1.2419269166269458) = -45.77802\n",
      ">49 f(-2.6084077116373905) = -18.61015\n",
      ">50 f(2.219236844684085) = 44.77634\n",
      ">51 f(4.79511043522171) = -26.83594\n",
      ">52 f(3.422952620631434) = -2.16652\n",
      ">53 f(7.541755672064893) = 104.46069\n",
      ">54 f(4.49751585176976) = -28.62252\n",
      ">55 f(4.664130062594524) = -28.18768\n",
      ">56 f(3.972504990506576) = -21.14654\n",
      ">57 f(6.5490151787224065) = 56.02510\n",
      ">58 f(0.4148380553047408) = 20.32418\n",
      ">59 f(-4.2440375705801845) = 62.62754\n",
      ">60 f(-1.1381508571238514) = -44.09760\n",
      ">61 f(-3.0068905967532547) = 2.32664\n",
      ">62 f(2.549194460026239) = 34.41600\n",
      ">63 f(6.1873757152614814) = 33.50046\n",
      ">64 f(-0.02716828241450031) = -1.35751\n",
      ">65 f(-5.0198894505084635) = 72.85394\n",
      ">66 f(-5.529298059220663) = 64.79703\n",
      ">67 f(-8.06860668993153) = 16.24960\n",
      ">68 f(-5.38997984277654) = 68.00615\n",
      ">69 f(-7.4465734812804865) = 9.54391\n",
      ">70 f(-7.9384135582703) = 13.19652\n",
      ">71 f(-5.929072624775188) = 52.49181\n",
      ">72 f(-9.433030813351412) = 89.39471\n",
      ">73 f(-2.546594923654043) = -21.54020\n",
      ">74 f(2.1034729172184727) = 47.49714\n",
      ">75 f(4.221982877454428) = -26.28194\n",
      ">76 f(5.732507138528259) = 6.69837\n",
      ">77 f(0.32515643107191483) = 16.07858\n",
      ">78 f(-4.477878680165204) = 68.68281\n",
      ">79 f(-2.420469356365181) = -27.15277\n",
      ">80 f(1.8189473649666357) = 51.77698\n",
      ">81 f(2.6832181684619427) = 29.32421\n",
      ">82 f(6.630439322965512) = 60.97858\n",
      ">83 f(0.6027976483933193) = 28.71083\n",
      ">84 f(-3.636525461187632) = 36.97294\n",
      ">85 f(1.4907827628873056) = 52.06246\n",
      ">86 f(0.7929851378695855) = 36.25138\n",
      ">87 f(-2.8742202914536854) = -4.94876\n",
      ">88 f(2.5229659769121184) = 35.36120\n",
      ">89 f(6.091750971802725) = 27.59607\n",
      ">90 f(-0.03526091290054989) = -1.76144\n",
      ">91 f(-5.025100722417811) = 72.82678\n",
      ">92 f(-5.558280551028713) = 64.04769\n",
      ">93 f(-8.18943733153875) = 19.85386\n",
      ">94 f(-4.905552359227852) = 73.13454\n",
      ">95 f(-4.884263868708725) = 73.11933\n",
      ">96 f(-4.762560654971397) = 72.61907\n",
      ">97 f(-4.060801666834696) = 56.24622\n",
      ">98 f(-0.21639494645325819) = -10.68868\n",
      ">99 f(-5.056505134801844) = 72.63694\n",
      "Done!\n",
      "f(-5.056505134801844) = 72.636944\n"
     ]
    },
    {
     "data": {
      "text/plain": [
       "<matplotlib.collections.PathCollection at 0x1de288558e0>"
      ]
     },
     "execution_count": 114,
     "metadata": {},
     "output_type": "execute_result"
    },
    {
     "data": {
      "image/png": "[encoded data removed]",
      "text/plain": [
       "<Figure size 432x288 with 1 Axes>"
      ]
     },
     "metadata": {
      "needs_background": "light"
     },
     "output_type": "display_data"
    }
   ],
   "source": [
    "from numpy import asarray\n",
    "from numpy.random import rand\n",
    " \n",
    "# objective function\n",
    "def objective(x):\n",
    "\treturn  50*np.sin(x) +x**2.0\n",
    " \n",
    "# derivative of objective function\n",
    "def derivative(x):\n",
    "\treturn 50*np.cos(x) +x * 2.0\n",
    " \n",
    "    \n",
    "    \n",
    "s,e =[],[]\n",
    "# gradient descent algorithm\n",
    "def gradient_descent(objective, derivative, bounds, n_iter, step_size):\n",
    "\t# generate an initial point\n",
    "\tsolution = 7\n",
    "\t# run the gradient descent\n",
    "\tfor i in range(n_iter):\n",
    "\t\t# calculate gradient\n",
    "\t\tgradient = derivative(solution)\n",
    "\t\t# take a step\n",
    "\t\tsolution = solution - step_size * gradient\n",
    "\t\ts.append(solution)\n",
    "\t\t# evaluate candidate point\n",
    "\t\tsolution_eval = objective(solution)\n",
    "\t\te.append(solution_eval)\n",
    "\t\t# report progress\n",
    "\t\tprint('>%d f(%s) = %.5f' % (i, solution, solution_eval))\n",
    "\treturn [solution, solution_eval]\n",
    " \n",
    "# define range for input\n",
    "bounds = asarray([[1.0, 10.0]])\n",
    "# define the total iterations\n",
    "n_iter = 100\n",
    "# define the step size\n",
    "step_size = 0.1\n",
    "# perform the gradient descent search\n",
    "best, score = gradient_descent(objective, derivative, bounds, n_iter, step_size)\n",
    "print('Done!')\n",
    "print('f(%s) = %f' % (best, score))\n",
    "plt.scatter(s,e)"
   ]
  },
  {
   "cell_type": "code",
   "execution_count": null,
   "id": "dbe7a3bc",
   "metadata": {},
   "outputs": [],
   "source": []
  }
 ],
 "metadata": {
  "kernelspec": {
   "display_name": "Python 3",
   "language": "python",
   "name": "python3"
  },
  "language_info": {
   "codemirror_mode": {
    "name": "ipython",
    "version": 3
   },
   "file_extension": ".py",
   "mimetype": "text/x-python",
   "name": "python",
   "nbconvert_exporter": "python",
   "pygments_lexer": "ipython3",
   "version": "3.8.8"
  }
 },
 "nbformat": 4,
 "nbformat_minor": 5
}
