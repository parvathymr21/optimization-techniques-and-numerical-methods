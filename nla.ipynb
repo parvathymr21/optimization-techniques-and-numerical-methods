{
 "cells": [
  {
   "cell_type": "code",
   "execution_count": null,
   "id": "5ae8ec65",
   "metadata": {},
   "outputs": [],
   "source": [
    "def eigenvalue(A, v):\n",
    "    Av = A.dot(v)\n",
    "    return v.dot(Av)\n",
    "\n",
    "def power_iteration(A):\n",
    "    n, d = A.shape\n",
    "\n",
    "    v = np.ones(d) / np.sqrt(d)\n",
    "    ev = eigenvalue(A, v)\n",
    "\n",
    "    while True:\n",
    "        Av = A.dot(v)\n",
    "        v_new = Av / np.linalg.norm(Av)\n",
    "\n",
    "        ev_new = eigenvalue(A, v_new)\n",
    "        if np.abs(ev - ev_new) < 0.01:\n",
    "            break\n",
    "\n",
    "        v = v_new\n",
    "        ev = ev_new\n",
    "\n",
    "   return ev_new, v_new"
   ]
  },
  {
   "cell_type": "code",
   "execution_count": null,
   "id": "b7861039",
   "metadata": {},
   "outputs": [],
   "source": [
    "eps = 1e-8 # Precision of eigenvalue\n",
    "\n",
    "def trans(v): # translates vector (v^T)\n",
    "    v_1 = np.copy(v)\n",
    "    return v_1.reshape((-1, 1))\n",
    "\n",
    "def power(A,x0):\n",
    "    eig = []\n",
    "    Ac = np.copy(A)\n",
    "    lamb = 0\n",
    "    for i in range(3):\n",
    "        x = x0\n",
    "        while True:\n",
    "            x_1 = Ac.dot(x) # y_n = A*x_(n-1)\n",
    "            x_norm = np.linalg.norm(x_1) \n",
    "            x_1 = x_1/x_norm # x_n = y_n/||y_n||\n",
    "            if(abs(lamb - x_norm) <= eps): # If precision is reached, it returns eigenvalue\n",
    "                break\n",
    "            else:\n",
    "                lamb = x_norm\n",
    "                x = x_1\n",
    "        eig.append(lamb)\n",
    "        # Matrix Deflaction: A - Lambda * norm[V]*norm[V]^T\n",
    "        v = x_1/np.linalg.norm(x_1)\n",
    "        R = v * trans(v)\n",
    "        R = eig[i]*R\n",
    "        Ac = Ac - R\n",
    "\n",
    "    return eig"
   ]
  }
 ],
 "metadata": {
  "kernelspec": {
   "display_name": "Python 3",
   "language": "python",
   "name": "python3"
  },
  "language_info": {
   "codemirror_mode": {
    "name": "ipython",
    "version": 3
   },
   "file_extension": ".py",
   "mimetype": "text/x-python",
   "name": "python",
   "nbconvert_exporter": "python",
   "pygments_lexer": "ipython3",
   "version": "3.8.8"
  }
 },
 "nbformat": 4,
 "nbformat_minor": 5
}
